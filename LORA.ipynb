{
  "nbformat": 4,
  "nbformat_minor": 0,
  "metadata": {
    "colab": {
      "provenance": [],
      "authorship_tag": "ABX9TyOitz1MW1Yk6nYjisx25s60",
      "include_colab_link": true
    },
    "kernelspec": {
      "name": "python3",
      "display_name": "Python 3"
    },
    "language_info": {
      "name": "python"
    },
    "accelerator": "TPU"
  },
  "cells": [
    {
      "cell_type": "markdown",
      "metadata": {
        "id": "view-in-github",
        "colab_type": "text"
      },
      "source": [
        "<a href=\"https://colab.research.google.com/github/aniketSanyal/DifferentialPrivacy/blob/main/LORA.ipynb\" target=\"_parent\"><img src=\"https://colab.research.google.com/assets/colab-badge.svg\" alt=\"Open In Colab\"/></a>"
      ]
    },
    {
      "cell_type": "code",
      "execution_count": null,
      "metadata": {
        "id": "2oSS5n5csJXG"
      },
      "outputs": [],
      "source": [
        "!pip install opacus transformers peft datasets"
      ]
    },
    {
      "cell_type": "code",
      "source": [
        "from datasets import load_dataset\n",
        "raw_datasets = load_dataset(\"glue\", \"sst2\")"
      ],
      "metadata": {
        "id": "F-lF-zLNsPFL"
      },
      "execution_count": null,
      "outputs": []
    },
    {
      "cell_type": "code",
      "source": [
        "import torch\n",
        "from transformers import AutoModelForSequenceClassification"
      ],
      "metadata": {
        "id": "-dtGby6duDbO"
      },
      "execution_count": null,
      "outputs": []
    },
    {
      "cell_type": "code",
      "source": [
        "from transformers import AutoTokenizer\n",
        "\n",
        "checkpoint = \"prajjwal1/bert-tiny\"\n",
        "tokenizer = AutoTokenizer.from_pretrained(checkpoint)"
      ],
      "metadata": {
        "id": "UFKipwJ7s1yM"
      },
      "execution_count": null,
      "outputs": []
    },
    {
      "cell_type": "code",
      "source": [
        "class Config:\n",
        "  num_train_epochs = 10\n",
        "  learning_rate = 1e-3\n",
        "  n_prompt_tokens = 10\n",
        "  random_range  = 0.5\n",
        "  batch_size = 8\n",
        "  max_grad_norm = 0.1\n",
        "args = Config()\n",
        ""
      ],
      "metadata": {
        "id": "dbWFF8-Gs4GN"
      },
      "execution_count": null,
      "outputs": []
    },
    {
      "cell_type": "code",
      "source": [
        "from torch.utils.data import DataLoader\n",
        "tokenized_dataset = raw_datasets.map(\n",
        "    lambda example: tokenizer(example[\"sentence\"], max_length=64, padding='max_length', truncation=True),\n",
        "    batched=True\n",
        ")\n",
        "\n",
        "\n",
        "tokenized_dataset.set_format(type='torch', columns=['input_ids', 'attention_mask', 'label'])\n",
        "\n",
        "tokenized_dataset = tokenized_dataset.remove_columns(['idx'])\n",
        "tokenized_dataset = tokenized_dataset.rename_column(\"label\", \"labels\")"
      ],
      "metadata": {
        "id": "2knDOiaNtCaG"
      },
      "execution_count": null,
      "outputs": []
    },
    {
      "cell_type": "code",
      "source": [
        "from torch.nn.utils.rnn import pad_sequence\n",
        "\n",
        "def custom_collate(batch):\n",
        "    input_ids = pad_sequence([item['input_ids'] for item in batch], batch_first=True, padding_value=tokenizer.pad_token_id)\n",
        "    attention_mask = pad_sequence([item['attention_mask'] for item in batch], batch_first=True, padding_value=0)\n",
        "    labels = torch.stack([item['labels'] for item in batch])\n",
        "\n",
        "    return {'input_ids': input_ids, 'attention_mask': attention_mask, 'labels': labels}"
      ],
      "metadata": {
        "id": "is1TeDh0tF11"
      },
      "execution_count": null,
      "outputs": []
    },
    {
      "cell_type": "code",
      "source": [
        "train_dataloader = DataLoader(tokenized_dataset[\"train\"], shuffle=False, batch_size=args.batch_size, collate_fn=custom_collate)\n",
        "test_dataloader = DataLoader(tokenized_dataset[\"validation\"], shuffle=False, batch_size=args.batch_size, collate_fn=custom_collate)"
      ],
      "metadata": {
        "id": "xHHDhuwHtI7b"
      },
      "execution_count": null,
      "outputs": []
    },
    {
      "cell_type": "code",
      "source": [
        "from peft import (\n",
        "    get_peft_config,\n",
        "    get_peft_model,\n",
        "    LoraConfig,\n",
        "    PeftType,\n",
        ")"
      ],
      "metadata": {
        "id": "bhOZrreFtMmv"
      },
      "execution_count": null,
      "outputs": []
    },
    {
      "cell_type": "code",
      "source": [
        "peft_config = LoraConfig(task_type=\"SEQ_CLS\", inference_mode=False, r=8, lora_alpha=16, lora_dropout=0.1)"
      ],
      "metadata": {
        "id": "LhfoPWzptl2k"
      },
      "execution_count": null,
      "outputs": []
    },
    {
      "cell_type": "code",
      "source": [
        "def get_new_LORA_model(num_labels):\n",
        "  model = AutoModelForSequenceClassification.from_pretrained(checkpoint, num_labels=num_labels)\n",
        "  return model"
      ],
      "metadata": {
        "id": "UzqqIX_6t0op"
      },
      "execution_count": null,
      "outputs": []
    },
    {
      "cell_type": "code",
      "source": [
        "import numpy as np\n",
        "\n",
        "def accuracy(preds, labels):\n",
        "    return (preds == labels).mean()\n",
        "\n",
        "# define evaluation cycle\n",
        "def evaluate(model):\n",
        "    model.eval()\n",
        "\n",
        "    loss_arr = []\n",
        "    accuracy_arr = []\n",
        "\n",
        "    for batch in test_dataloader:\n",
        "        #batch = {k: v.to(device) for k, v in batch.items()}\n",
        "\n",
        "        outputs = model(**batch)\n",
        "        loss, logits = outputs[:2]\n",
        "\n",
        "        preds = np.argmax(logits.detach().cpu().numpy(), axis=1)\n",
        "        labels =batch['labels'].detach().cpu().numpy()\n",
        "        print(\"preds:\" , preds, \", labels\" , labels)\n",
        "        loss_arr.append(loss.item())\n",
        "        accuracy_arr.append(accuracy(preds, labels))\n",
        "\n",
        "    model.train()\n",
        "    return np.mean(loss_arr), np.mean(accuracy_arr)"
      ],
      "metadata": {
        "id": "nHM4pdU6vfUW"
      },
      "execution_count": null,
      "outputs": []
    },
    {
      "cell_type": "code",
      "source": [
        "def train_LORA(model,optimiser, train_dataloader):\n",
        "  for epoch in range(1, args.num_train_epochs+1):\n",
        "    losses = []\n",
        "\n",
        "    for  step, batch in enumerate(train_dataloader):\n",
        "            optimiser.zero_grad()\n",
        "            #batch = {k: v.to(device) for k, v in batch.items()}\n",
        "            outputs = model(**batch) # output = loss, logits, hidden_states, attentions\n",
        "\n",
        "            loss = outputs[0]\n",
        "\n",
        "            loss.backward()\n",
        "            losses.append(loss.item())\n",
        "            optimiser.step()\n",
        "\n",
        "            if step > 0 and step % LOGGING_INTERVAL == 0:\n",
        "                train_loss = np.mean(losses)\n",
        "\n",
        "                eval_loss, eval_accuracy = evaluate(model)\n",
        "\n",
        "                print(\n",
        "                  f\"Epoch: {epoch} | \"\n",
        "                  f\"Step: {step} | \"\n",
        "                  f\"Train loss: {train_loss:.3f} | \"\n",
        "                  f\"Eval loss: {eval_loss:.3f} | \"\n",
        "                  f\"Eval accuracy: {eval_accuracy:.3f} | \"\n",
        "                )"
      ],
      "metadata": {
        "id": "KdxL9a__uvjh"
      },
      "execution_count": null,
      "outputs": []
    },
    {
      "cell_type": "code",
      "source": [
        "model = get_new_LORA_model(2)"
      ],
      "metadata": {
        "id": "jkhKwp6kuGVp"
      },
      "execution_count": null,
      "outputs": []
    },
    {
      "cell_type": "code",
      "source": [
        "optimiser = torch.optim.AdamW(params=model.parameters(), lr=args.learning_rate)"
      ],
      "metadata": {
        "id": "XsoZ6NRKtrcd"
      },
      "execution_count": null,
      "outputs": []
    },
    {
      "cell_type": "code",
      "source": [
        "model = get_peft_model(model, peft_config)\n",
        "model.print_trainable_parameters()"
      ],
      "metadata": {
        "id": "13owmtCFtw0p"
      },
      "execution_count": null,
      "outputs": []
    },
    {
      "cell_type": "code",
      "source": [
        "LOGGING_INTERVAL = 100"
      ],
      "metadata": {
        "id": "xL9cRW4JvE7H"
      },
      "execution_count": null,
      "outputs": []
    },
    {
      "cell_type": "code",
      "source": [
        "train_LORA(model, optimiser, train_dataloader)"
      ],
      "metadata": {
        "id": "DCfqdxjTukrw"
      },
      "execution_count": null,
      "outputs": []
    },
    {
      "cell_type": "markdown",
      "source": [
        "QNLI"
      ],
      "metadata": {
        "id": "JarwfN460N1u"
      }
    },
    {
      "cell_type": "code",
      "source": [
        "tokenizer = AutoTokenizer.from_pretrained(checkpoint)\n",
        "\n",
        "\n",
        "raw_datasets = load_dataset(\"glue\", \"qnli\")\n",
        "\n",
        "\n",
        "raw_datasets['train'] = raw_datasets['train'].select([i for i in range(50000)])\n",
        "\n",
        "raw_datasets['validation'] = raw_datasets['validation'].select([i for i in range(5000)])\n",
        "\n",
        "raw_datasets['test'] = raw_datasets['test'].select([i for i in range(5000)])\n",
        "\n",
        "\n",
        "from torch.utils.data import DataLoader\n",
        "tokenized_dataset = raw_datasets.map(\n",
        "    lambda example: tokenizer(example[\"question\"],example[\"sentence\"] ,max_length=64, padding='max_length', truncation=True),\n",
        "    batched=True\n",
        ")\n",
        "\n",
        "\n",
        "tokenized_dataset.set_format(type='torch', columns=['input_ids', 'attention_mask', 'label'])\n",
        "\n",
        "tokenized_dataset = tokenized_dataset.remove_columns(['idx', 'sentence', 'question'])\n",
        "tokenized_dataset = tokenized_dataset.rename_column(\"label\", \"labels\")\n",
        ""
      ],
      "metadata": {
        "id": "UofarywG0PZJ"
      },
      "execution_count": null,
      "outputs": []
    },
    {
      "cell_type": "code",
      "source": [
        "train_dataloader = DataLoader(tokenized_dataset[\"train\"], shuffle=False, batch_size=args.batch_size, collate_fn=custom_collate)\n",
        "test_dataloader = DataLoader(tokenized_dataset[\"validation\"], shuffle=False, batch_size=args.batch_size, collate_fn=custom_collate)"
      ],
      "metadata": {
        "id": "2vh4X37a0Yl0"
      },
      "execution_count": null,
      "outputs": []
    },
    {
      "cell_type": "code",
      "source": [
        "model = get_new_LORA_model(2)\n",
        "model = get_peft_model(model, peft_config)"
      ],
      "metadata": {
        "id": "zaaVYC4R0ll3"
      },
      "execution_count": null,
      "outputs": []
    },
    {
      "cell_type": "code",
      "source": [
        "train_LORA(model, optimiser, train_dataloader)"
      ],
      "metadata": {
        "id": "qflnhbhh0zYS"
      },
      "execution_count": null,
      "outputs": []
    },
    {
      "cell_type": "markdown",
      "source": [
        "For QQP"
      ],
      "metadata": {
        "id": "PvGsFNBvAo8K"
      }
    },
    {
      "cell_type": "code",
      "source": [
        "raw_datasets = load_dataset(\"glue\", \"qqp\")\n",
        "\n",
        "\n",
        "raw_datasets['train'] = raw_datasets['train'].select([i for i in range(50000)])\n",
        "\n",
        "raw_datasets['validation'] = raw_datasets['validation'].select([i for i in range(5000)])\n",
        "\n",
        "raw_datasets['test'] = raw_datasets['test'].select([i for i in range(5000)])\n",
        "\n",
        "\n",
        "from torch.utils.data import DataLoader\n",
        "tokenized_dataset = raw_datasets.map(\n",
        "    lambda example: tokenizer(example[\"question1\"],example[\"question2\"] ,max_length=64, padding='max_length', truncation=True),\n",
        "    batched=True\n",
        ")\n",
        "\n",
        "\n",
        "tokenized_dataset.set_format(type='torch', columns=['input_ids', 'attention_mask', 'label'])\n",
        "\n",
        "tokenized_dataset = tokenized_dataset.remove_columns(['idx', 'question1', 'question2'])\n",
        "tokenized_dataset = tokenized_dataset.rename_column(\"label\", \"labels\")\n",
        ""
      ],
      "metadata": {
        "id": "G1_WY5GtAp9Z"
      },
      "execution_count": null,
      "outputs": []
    },
    {
      "cell_type": "code",
      "source": [
        "train_dataloader = DataLoader(tokenized_dataset[\"train\"], shuffle=False, batch_size=args.batch_size, collate_fn=custom_collate)\n",
        "test_dataloader = DataLoader(tokenized_dataset[\"validation\"], shuffle=False, batch_size=args.batch_size, collate_fn=custom_collate)"
      ],
      "metadata": {
        "id": "oF8YX1GfAu2Z"
      },
      "execution_count": null,
      "outputs": []
    },
    {
      "cell_type": "code",
      "source": [
        "model = get_new_LORA_model(2)\n",
        "model = get_peft_model(model, peft_config)"
      ],
      "metadata": {
        "id": "Wc7k-QpXBJo_"
      },
      "execution_count": null,
      "outputs": []
    },
    {
      "cell_type": "code",
      "source": [
        "train_LORA(model, optimiser, train_dataloader)"
      ],
      "metadata": {
        "id": "xyNGJXZFBMFM"
      },
      "execution_count": null,
      "outputs": []
    },
    {
      "cell_type": "markdown",
      "source": [
        "FOR MNLI"
      ],
      "metadata": {
        "id": "t26oUZx8FVov"
      }
    },
    {
      "cell_type": "code",
      "source": [
        "\n",
        "raw_datasets = load_dataset(\"glue\", \"mnli\")\n",
        "\n",
        "\n",
        "raw_datasets['train'] = raw_datasets['train'].select([i for i in range(50000)])\n",
        "\n",
        "raw_datasets['validation_matched'] = raw_datasets['validation_matched'].select([i for i in range(5000)])\n",
        "\n",
        "\n",
        "\n",
        "tokenizer = AutoTokenizer.from_pretrained(\"prajjwal1/bert-tiny-mnli\", num_classes =3)\n",
        "\n",
        "\n",
        "from torch.utils.data import DataLoader\n",
        "tokenized_dataset = raw_datasets.map(\n",
        "    lambda example: tokenizer(example[\"premise\"],example[\"hypothesis\"] ,max_length=64, padding='max_length', truncation=True),\n",
        "    batched=True\n",
        ")\n",
        "\n",
        "\n",
        "tokenized_dataset.set_format(type='torch', columns=['input_ids', 'attention_mask', 'label'])\n",
        "\n",
        "tokenized_dataset = tokenized_dataset.remove_columns(['idx', 'premise', 'hypothesis'])\n",
        "tokenized_dataset = tokenized_dataset.rename_column(\"label\", \"labels\")"
      ],
      "metadata": {
        "id": "Q7niZYXaFYsz"
      },
      "execution_count": null,
      "outputs": []
    },
    {
      "cell_type": "code",
      "source": [
        "train_dataloader = DataLoader(tokenized_dataset[\"train\"], shuffle=False, batch_size=args.batch_size, collate_fn=custom_collate)\n",
        "test_dataloader = DataLoader(tokenized_dataset[\"validation_matched\"], shuffle=False, batch_size=args.batch_size, collate_fn=custom_collate)"
      ],
      "metadata": {
        "id": "c9pxFS4dLG_1"
      },
      "execution_count": null,
      "outputs": []
    },
    {
      "cell_type": "code",
      "source": [
        "model = model = AutoModelForSequenceClassification.from_pretrained(\"prajjwal1/bert-tiny-mnli\", num_labels =3)\n",
        "model = get_peft_model(model, peft_config)"
      ],
      "metadata": {
        "id": "b0bg54GqFfIS"
      },
      "execution_count": null,
      "outputs": []
    },
    {
      "cell_type": "code",
      "source": [
        "train_LORA(model, optimiser, train_dataloader)"
      ],
      "metadata": {
        "id": "d1BWhEqMGbo5"
      },
      "execution_count": null,
      "outputs": []
    },
    {
      "cell_type": "code",
      "source": [],
      "metadata": {
        "id": "ovtP7v86GdQf"
      },
      "execution_count": null,
      "outputs": []
    }
  ]
}