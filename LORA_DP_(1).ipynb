{
  "nbformat": 4,
  "nbformat_minor": 0,
  "metadata": {
    "colab": {
      "provenance": [],
      "gpuType": "T4",
      "include_colab_link": true
    },
    "kernelspec": {
      "name": "python3",
      "display_name": "Python 3"
    },
    "language_info": {
      "name": "python"
    },
    "accelerator": "GPU"
  },
  "cells": [
    {
      "cell_type": "markdown",
      "metadata": {
        "id": "view-in-github",
        "colab_type": "text"
      },
      "source": [
        "<a href=\"https://colab.research.google.com/github/aniketSanyal/DifferentialPrivacy/blob/main/LORA_DP_(1).ipynb\" target=\"_parent\"><img src=\"https://colab.research.google.com/assets/colab-badge.svg\" alt=\"Open In Colab\"/></a>"
      ]
    },
    {
      "cell_type": "code",
      "source": [
        "!pip install loralib transformers datasets opacus"
      ],
      "metadata": {
        "id": "6VZC6BUyuxlf"
      },
      "execution_count": null,
      "outputs": []
    },
    {
      "cell_type": "code",
      "execution_count": null,
      "metadata": {
        "id": "N166hChX2hX0"
      },
      "outputs": [],
      "source": [
        "from datasets import load_dataset\n",
        "raw_datasets = load_dataset(\"glue\", \"sst2\")"
      ]
    },
    {
      "cell_type": "code",
      "source": [
        "class Config:\n",
        "  num_train_epochs = 4\n",
        "  learning_rate = 5e-4\n",
        "  n_prompt_tokens = 10\n",
        "  random_range  = 0.5\n",
        "  batch_size = 64\n",
        "  max_grad_norm = 0.1\n",
        "args = Config()"
      ],
      "metadata": {
        "id": "LWJPdDb8Ea0i"
      },
      "execution_count": null,
      "outputs": []
    },
    {
      "cell_type": "code",
      "source": [
        "from transformers import AutoTokenizer\n",
        "\n",
        "checkpoint = \"prajjwal1/bert-tiny\"\n",
        "tokenizer = AutoTokenizer.from_pretrained(checkpoint)"
      ],
      "metadata": {
        "id": "G75tCLCN2uop"
      },
      "execution_count": null,
      "outputs": []
    },
    {
      "cell_type": "code",
      "source": [
        "from torch.utils.data import DataLoader"
      ],
      "metadata": {
        "id": "J11YDkVqkTYB"
      },
      "execution_count": null,
      "outputs": []
    },
    {
      "cell_type": "code",
      "source": [
        "\n",
        "\n",
        "tokenized_dataset = raw_datasets.map(\n",
        "    lambda example: tokenizer(example[\"sentence\"], max_length=64, padding='max_length', truncation=True),\n",
        "    batched=True\n",
        ")\n",
        "\n",
        "\n",
        "tokenized_dataset.set_format(type='torch', columns=['input_ids', 'attention_mask', 'label'])\n",
        "\n",
        "tokenized_dataset = tokenized_dataset.remove_columns(['idx', 'sentence'])\n",
        "tokenized_dataset = tokenized_dataset.rename_column(\"label\", \"labels\")"
      ],
      "metadata": {
        "id": "jNa4lPMwkGMK"
      },
      "execution_count": null,
      "outputs": []
    },
    {
      "cell_type": "code",
      "source": [
        "import torch\n",
        "from torch.nn.utils.rnn import pad_sequence\n",
        "\n",
        "def custom_collate(batch):\n",
        "    input_ids = pad_sequence([item['input_ids'] for item in batch], batch_first=True, padding_value=tokenizer.pad_token_id)\n",
        "    attention_mask = pad_sequence([item['attention_mask'] for item in batch], batch_first=True, padding_value=0)\n",
        "    labels = torch.stack([item['labels'] for item in batch])\n",
        "\n",
        "    return {'input_ids': input_ids, 'attention_mask': attention_mask, 'labels': labels}"
      ],
      "metadata": {
        "id": "JlC8wM6D536e"
      },
      "execution_count": null,
      "outputs": []
    },
    {
      "cell_type": "code",
      "source": [
        "train_dataloader = DataLoader(tokenized_dataset[\"train\"], shuffle=False, batch_size=args.batch_size, collate_fn=custom_collate)\n",
        "test_dataloader = DataLoader(tokenized_dataset[\"validation\"], shuffle=False, batch_size=args.batch_size, collate_fn=custom_collate)"
      ],
      "metadata": {
        "id": "i4vfyS1n5qnq"
      },
      "execution_count": null,
      "outputs": []
    },
    {
      "cell_type": "code",
      "source": [
        "from transformers import AutoModelForSequenceClassification\n",
        "model = AutoModelForSequenceClassification.from_pretrained(checkpoint)"
      ],
      "metadata": {
        "id": "EPqi-kf-5ufK"
      },
      "execution_count": null,
      "outputs": []
    },
    {
      "cell_type": "code",
      "source": [
        "#device = torch.device(\"cuda\" if torch.cuda.is_available() else \"cpu\")\n",
        "#model = model.to(device)\n",
        "model = model.train()"
      ],
      "metadata": {
        "id": "kaBnOPxORufG"
      },
      "execution_count": null,
      "outputs": []
    },
    {
      "cell_type": "code",
      "source": [
        "import loralib as lora"
      ],
      "metadata": {
        "id": "xM3d_DDn6foz"
      },
      "execution_count": null,
      "outputs": []
    },
    {
      "cell_type": "code",
      "source": [
        "import torch.nn as nn\n",
        "lora_r = 4\n",
        "\n",
        "def make_lora_layer(layer, lora_r=4):\n",
        "    new_layer = lora.Linear(\n",
        "        in_features=layer.in_features,\n",
        "        out_features=layer.out_features,\n",
        "        bias=layer.bias is None,\n",
        "        r=lora_r,\n",
        "        merge_weights=False\n",
        "    )\n",
        "\n",
        "    new_layer.weight = nn.Parameter(layer.weight.detach())\n",
        "\n",
        "    if layer.bias is not None:\n",
        "        new_layer.bias = nn.Parameter(layer.bias.detach())\n",
        "\n",
        "    return new_layer\n",
        "\n",
        "\n",
        "def make_lora_replace(model, depth=1, path=\"\", verbose=True):\n",
        "    if depth > 10:\n",
        "        return\n",
        "    depth += 1\n",
        "\n",
        "    if isinstance(model, nn.Linear) and \"attention\" in path:\n",
        "        if verbose:\n",
        "            print(f\"Find linear {path}:{key} :\", type(module))\n",
        "\n",
        "        return make_lora_layer(model)\n",
        "\n",
        "    for key in dir(model):\n",
        "        module = getattr(model, key)\n",
        "        module_type = type(module)\n",
        "\n",
        "        if not isinstance(module, nn.Module) or module is model:\n",
        "            continue\n",
        "\n",
        "        if isinstance(module, nn.Linear) and \"attention\" in path:\n",
        "            layer = make_lora_layer(module)\n",
        "            setattr(model, key, layer)\n",
        "            if verbose:\n",
        "                print(f\"Find linear {path}:{key} :\", type(module))\n",
        "\n",
        "        elif isinstance(module, nn.ModuleList):\n",
        "            for i, elem in enumerate(module):\n",
        "                layer = make_lora_replace(elem, depth, path+\":\"+key+f\"[{i}]\", verbose=verbose)\n",
        "                if layer is not None:\n",
        "                    module[i] = layer\n",
        "\n",
        "        elif isinstance(module, nn.ModuleDict):\n",
        "            for module_key in list(module.keys()):\n",
        "                layer = make_lora_replace(elem, depth, path+\":\"+key+\":\"+module_key, verbose=verbose)\n",
        "                if layer is not None:\n",
        "                    module[module_key] = layer\n",
        "\n",
        "        else:\n",
        "            layer = make_lora_replace(module, depth, path+\":\"+key, verbose=verbose)\n",
        "            if layer is not None:\n",
        "                setattr(model, key, layer)"
      ],
      "metadata": {
        "id": "BxSBHRqQ59DK"
      },
      "execution_count": null,
      "outputs": []
    },
    {
      "cell_type": "code",
      "source": [
        "make_lora_replace(model, verbose=True)"
      ],
      "metadata": {
        "id": "3hJomVJI6LDl"
      },
      "execution_count": null,
      "outputs": []
    },
    {
      "cell_type": "code",
      "source": [
        "lora_r = 4\n",
        "\n",
        "total_trainable_params = sum(p.numel() for p in model.parameters() if p.requires_grad)\n",
        "print(f\"Total trainable parameters before LoRA: {total_trainable_params}\")\n",
        "\n",
        "\n",
        "lora.mark_only_lora_as_trainable(model)\n",
        "\n",
        "total_trainable_params = sum(p.numel() for p in model.parameters() if p.requires_grad)\n",
        "print(f\"Total trainable parameters after LoRA: {total_trainable_params}\")"
      ],
      "metadata": {
        "id": "nGWzWteI6SI_"
      },
      "execution_count": null,
      "outputs": []
    },
    {
      "cell_type": "code",
      "source": [
        "optimiser = torch.optim.Adam(model.parameters(), lr=args.learning_rate)"
      ],
      "metadata": {
        "id": "R09pw5AEu_xn"
      },
      "execution_count": null,
      "outputs": []
    },
    {
      "cell_type": "code",
      "source": [
        "model.train()"
      ],
      "metadata": {
        "id": "LidIUpgPE5TZ"
      },
      "execution_count": null,
      "outputs": []
    },
    {
      "cell_type": "code",
      "source": [
        "DELTA = 1/len(train_dataloader)"
      ],
      "metadata": {
        "id": "Hcgd2xN0UwVC"
      },
      "execution_count": null,
      "outputs": []
    },
    {
      "cell_type": "code",
      "source": [
        "from opacus import PrivacyEngine\n",
        "\n",
        "privacy_engine = PrivacyEngine()\n",
        "\n",
        "model, optimiser, train_dataloader = privacy_engine.make_private_with_epsilon(\n",
        "    module=model,\n",
        "    optimizer=optimiser,\n",
        "    data_loader=train_dataloader,\n",
        "    target_delta=DELTA,\n",
        "    target_epsilon=8,\n",
        "    epochs=args.num_train_epochs,\n",
        "    max_grad_norm=args.max_grad_norm,\n",
        "\n",
        ")"
      ],
      "metadata": {
        "id": "52f8_6t8EWUZ"
      },
      "execution_count": null,
      "outputs": []
    },
    {
      "cell_type": "code",
      "source": [
        "import numpy as np\n",
        "\n",
        "def accuracy(preds, labels):\n",
        "    return (preds == labels).mean()\n",
        "\n",
        "# define evaluation cycle\n",
        "def evaluate(model):\n",
        "    model.eval()\n",
        "\n",
        "    loss_arr = []\n",
        "    accuracy_arr = []\n",
        "\n",
        "    for batch in test_dataloader:\n",
        "        #batch = {k: v.to(device) for k, v in batch.items()}\n",
        "        outputs = model(**batch)\n",
        "        loss, logits = outputs[:2]\n",
        "\n",
        "        preds = np.argmax(logits.detach().cpu().numpy(), axis=1)\n",
        "        labels =batch['labels'].detach().cpu().numpy()\n",
        "\n",
        "        loss_arr.append(loss.item())\n",
        "        accuracy_arr.append(accuracy(preds, labels))\n",
        "\n",
        "    model.train()\n",
        "    return np.mean(loss_arr), np.mean(accuracy_arr)"
      ],
      "metadata": {
        "id": "s4t_EErm7Fd-"
      },
      "execution_count": null,
      "outputs": []
    },
    {
      "cell_type": "code",
      "source": [
        "from opacus.utils.batch_memory_manager import BatchMemoryManager"
      ],
      "metadata": {
        "id": "Zno_mJBm7qIn"
      },
      "execution_count": null,
      "outputs": []
    },
    {
      "cell_type": "code",
      "source": [
        "LOGGING_INTERVAL = 100"
      ],
      "metadata": {
        "id": "eYykkfp8FN9j"
      },
      "execution_count": null,
      "outputs": []
    },
    {
      "cell_type": "code",
      "source": [
        "def train_LORA_DP(model, optimiser,train_loader, DELTA):\n",
        "  for epoch in range(1, args.num_train_epochs+1):\n",
        "    losses = []\n",
        "\n",
        "    with BatchMemoryManager(\n",
        "        data_loader=train_dataloader,\n",
        "        max_physical_batch_size=16,\n",
        "        optimizer=optimiser\n",
        "    ) as memory_safe_data_loader:\n",
        "        for step, batch in enumerate(memory_safe_data_loader):\n",
        "            optimiser.zero_grad()\n",
        "            #batch = {k: v.to(device) for k, v in batch.items()}\n",
        "            outputs = model(**batch) # output = loss, logits, hidden_states, attentions\n",
        "            #print(outputs)\n",
        "            loss = outputs[0]\n",
        "\n",
        "            loss.backward()\n",
        "            losses.append(loss.item())\n",
        "            optimiser.step()\n",
        "\n",
        "            if step > 0 and step % LOGGING_INTERVAL == 0:\n",
        "                train_loss = np.mean(losses)\n",
        "                eps = privacy_engine.get_epsilon(DELTA)\n",
        "                eval_loss, eval_accuracy = evaluate(model)\n",
        "\n",
        "                print(\n",
        "                  f\"Epoch: {epoch} | \"\n",
        "                  f\"Step: {step} | \"\n",
        "                  f\"Train loss: {train_loss:.3f} | \"\n",
        "                  f\"Eval loss: {eval_loss:.3f} | \"\n",
        "                  f\"Eval accuracy: {eval_accuracy:.3f} | \"\n",
        "                  f\"ɛ: {eps:.2f}\"\n",
        "                )\n"
      ],
      "metadata": {
        "id": "aUrRmSO8_IW-"
      },
      "execution_count": null,
      "outputs": []
    },
    {
      "cell_type": "code",
      "source": [
        "train_LORA_DP(model, optimiser, train_dataloader, DELTA)"
      ],
      "metadata": {
        "id": "Lt1qm1K7_WFV"
      },
      "execution_count": null,
      "outputs": []
    },
    {
      "cell_type": "markdown",
      "source": [
        "For QNLI"
      ],
      "metadata": {
        "id": "SG6iWjPq8YvQ"
      }
    },
    {
      "cell_type": "code",
      "source": [
        "raw_datasets = load_dataset(\"glue\", \"qnli\")\n",
        "\n",
        "\n",
        "raw_datasets['train'] = raw_datasets['train'].select([i for i in range(50000)])\n",
        "\n",
        "raw_datasets['validation'] = raw_datasets['validation'].select([i for i in range(5000)])\n",
        "\n",
        "raw_datasets['test'] = raw_datasets['test'].select([i for i in range(5000)])\n",
        "\n",
        "\n",
        "from torch.utils.data import DataLoader\n",
        "tokenized_dataset = raw_datasets.map(\n",
        "    lambda example: tokenizer(example[\"question\"],example[\"sentence\"] ,max_length=64, padding='max_length', truncation=True),\n",
        "    batched=True\n",
        ")\n",
        "\n",
        "\n",
        "tokenized_dataset.set_format(type='torch', columns=['input_ids', 'attention_mask', 'label'])\n",
        "\n",
        "tokenized_dataset = tokenized_dataset.remove_columns(['idx', 'sentence', 'question'])\n",
        "tokenized_dataset = tokenized_dataset.rename_column(\"label\", \"labels\")\n",
        "\n",
        "\n",
        "train_dataloader = DataLoader(tokenized_dataset[\"train\"], shuffle=False, batch_size=args.batch_size, collate_fn=custom_collate)\n",
        "test_dataloader = DataLoader(tokenized_dataset[\"validation\"], shuffle=False, batch_size=args.batch_size, collate_fn=custom_collate)\n",
        "\n",
        "\n",
        "model = AutoModelForSequenceClassification.from_pretrained(checkpoint)\n"
      ],
      "metadata": {
        "id": "thHpMklPEqUq"
      },
      "execution_count": null,
      "outputs": []
    },
    {
      "cell_type": "code",
      "source": [
        "make_lora_replace(model, verbose=True)\n",
        "lora_r = 4\n",
        "lora.mark_only_lora_as_trainable(model)"
      ],
      "metadata": {
        "id": "rqiHWaFUxa1J"
      },
      "execution_count": null,
      "outputs": []
    },
    {
      "cell_type": "code",
      "source": [
        "optimiser = torch.optim.Adam(model.parameters(), lr=args.learning_rate)"
      ],
      "metadata": {
        "id": "lMDPSMpz80CC"
      },
      "execution_count": null,
      "outputs": []
    },
    {
      "cell_type": "code",
      "source": [
        "DELTA = 1/len(train_dataloader)"
      ],
      "metadata": {
        "id": "VvyQ_YVs8-fj"
      },
      "execution_count": null,
      "outputs": []
    },
    {
      "cell_type": "code",
      "source": [
        "privacy_engine = PrivacyEngine()\n",
        "model.train()\n",
        "model, optimiser, train_dataloader = privacy_engine.make_private_with_epsilon(\n",
        "    module=model,\n",
        "    optimizer=optimiser,\n",
        "    data_loader=train_dataloader,\n",
        "    target_delta=DELTA,\n",
        "    target_epsilon=8,\n",
        "    epochs=args.num_train_epochs,\n",
        "    max_grad_norm=args.max_grad_norm,\n",
        "\n",
        ")"
      ],
      "metadata": {
        "id": "a6DvvKPg8434"
      },
      "execution_count": null,
      "outputs": []
    },
    {
      "cell_type": "code",
      "source": [
        "train_LORA_DP(model, optimiser, train_dataloader, DELTA)"
      ],
      "metadata": {
        "id": "IOigo-Rz9BNV"
      },
      "execution_count": null,
      "outputs": []
    },
    {
      "cell_type": "markdown",
      "source": [
        "QQP"
      ],
      "metadata": {
        "id": "9NRr8Iam-qxp"
      }
    },
    {
      "cell_type": "code",
      "source": [
        "raw_datasets = load_dataset(\"glue\", \"qqp\")\n",
        "\n",
        "\n",
        "raw_datasets['train'] = raw_datasets['train'].select([i for i in range(50000)])\n",
        "\n",
        "raw_datasets['validation'] = raw_datasets['validation'].select([i for i in range(5000)])\n",
        "\n",
        "raw_datasets['test'] = raw_datasets['test'].select([i for i in range(5000)])\n",
        "\n",
        "\n",
        "raw_datasets['train'][:5]\n",
        "\n",
        "\n",
        "from torch.utils.data import DataLoader\n",
        "tokenized_dataset = raw_datasets.map(\n",
        "    lambda example: tokenizer(example[\"question1\"],example[\"question2\"] ,max_length=64, padding='max_length', truncation=True),\n",
        "    batched=True\n",
        ")\n",
        "\n",
        "\n",
        "tokenized_dataset.set_format(type='torch', columns=['input_ids', 'attention_mask', 'label'])\n",
        "\n",
        "tokenized_dataset = tokenized_dataset.remove_columns(['idx', 'question1', 'question2'])\n",
        "tokenized_dataset = tokenized_dataset.rename_column(\"label\", \"labels\")\n",
        "\n",
        "\n",
        "train_dataloader = DataLoader(tokenized_dataset[\"train\"], shuffle=False, batch_size=args.batch_size, collate_fn=custom_collate)\n",
        "test_dataloader = DataLoader(tokenized_dataset[\"validation\"], shuffle=False, batch_size=args.batch_size, collate_fn=custom_collate)\n",
        ""
      ],
      "metadata": {
        "id": "FIHSH7zD-r2e"
      },
      "execution_count": null,
      "outputs": []
    },
    {
      "cell_type": "code",
      "source": [
        "model = AutoModelForSequenceClassification.from_pretrained(checkpoint)\n",
        "\n",
        "make_lora_replace(model, verbose=True)\n",
        "lora_r = 4\n",
        "lora.mark_only_lora_as_trainable(model)\n",
        "\n",
        "optimiser = torch.optim.Adam(model.parameters(), lr=args.learning_rate)"
      ],
      "metadata": {
        "id": "G_0A6n2G-ve_"
      },
      "execution_count": null,
      "outputs": []
    },
    {
      "cell_type": "code",
      "source": [
        "DELTA = 1/len(train_dataloader)"
      ],
      "metadata": {
        "id": "RvEkKWJP_l2q"
      },
      "execution_count": null,
      "outputs": []
    },
    {
      "cell_type": "code",
      "source": [
        "privacy_engine = PrivacyEngine()\n",
        "model.train()\n",
        "model, optimiser, train_dataloader = privacy_engine.make_private_with_epsilon(\n",
        "    module=model,\n",
        "    optimizer=optimiser,\n",
        "    data_loader=train_dataloader,\n",
        "    target_delta=DELTA,\n",
        "    target_epsilon=8,\n",
        "    epochs=args.num_train_epochs,\n",
        "    max_grad_norm=args.max_grad_norm,\n",
        "\n",
        ")"
      ],
      "metadata": {
        "id": "3KVgCcvZ_o3F"
      },
      "execution_count": null,
      "outputs": []
    },
    {
      "cell_type": "code",
      "source": [
        "train_LORA_DP(model, optimiser, train_dataloader, DELTA)"
      ],
      "metadata": {
        "id": "becjfQG1_qzU"
      },
      "execution_count": null,
      "outputs": []
    },
    {
      "cell_type": "markdown",
      "source": [
        "MNLI"
      ],
      "metadata": {
        "id": "QCpb0C8PB4fn"
      }
    },
    {
      "cell_type": "code",
      "source": [
        "raw_datasets = load_dataset(\"glue\", \"mnli\")\n",
        "\n",
        "\n",
        "raw_datasets['train'] = raw_datasets['train'].select([i for i in range(50000)])\n",
        "\n",
        "raw_datasets['validation_matched'] = raw_datasets['validation_matched'].select([i for i in range(5000)])\n",
        "\n",
        "\n",
        "\n",
        "tokenizer = AutoTokenizer.from_pretrained(checkpoint, num_labels =3)\n",
        "\n",
        "\n",
        "from torch.utils.data import DataLoader\n",
        "tokenized_dataset = raw_datasets.map(\n",
        "    lambda example: tokenizer(example[\"premise\"],example[\"hypothesis\"] ,max_length=64, padding='max_length', truncation=True),\n",
        "    batched=True\n",
        ")\n",
        "\n",
        "\n",
        "tokenized_dataset.set_format(type='torch', columns=['input_ids', 'attention_mask', 'label'])\n",
        "\n",
        "tokenized_dataset = tokenized_dataset.remove_columns(['idx', 'premise', 'hypothesis'])\n",
        "tokenized_dataset = tokenized_dataset.rename_column(\"label\", \"labels\")\n",
        "\n",
        "\n",
        "train_dataloader = DataLoader(tokenized_dataset[\"train\"], shuffle=False, batch_size=args.batch_size, collate_fn=custom_collate)\n",
        "test_dataloader = DataLoader(tokenized_dataset[\"validation_matched\"], shuffle=False, batch_size=args.batch_size, collate_fn=custom_collate)"
      ],
      "metadata": {
        "id": "LT0DgAmRB6aP"
      },
      "execution_count": null,
      "outputs": []
    },
    {
      "cell_type": "code",
      "source": [
        "model =AutoModelForSequenceClassification.from_pretrained(checkpoint, num_labels = 3)"
      ],
      "metadata": {
        "id": "t4WiRAkwB_bP"
      },
      "execution_count": null,
      "outputs": []
    },
    {
      "cell_type": "code",
      "source": [
        "make_lora_replace(model, verbose=True)\n",
        "lora_r = 4\n",
        "lora.mark_only_lora_as_trainable(model)\n",
        "\n",
        "optimiser = torch.optim.Adam(model.parameters(), lr=args.learning_rate)"
      ],
      "metadata": {
        "id": "TB_ShpN5Cdko"
      },
      "execution_count": null,
      "outputs": []
    },
    {
      "cell_type": "code",
      "source": [
        "privacy_engine = PrivacyEngine()\n",
        "model.train()\n",
        "model, optimiser, train_dataloader = privacy_engine.make_private_with_epsilon(\n",
        "    module=model,\n",
        "    optimizer=optimiser,\n",
        "    data_loader=train_dataloader,\n",
        "    target_delta=DELTA,\n",
        "    target_epsilon=8,\n",
        "    epochs=args.num_train_epochs,\n",
        "    max_grad_norm=args.max_grad_norm,\n",
        "\n",
        ")"
      ],
      "metadata": {
        "id": "FpvUpqFNCjQb"
      },
      "execution_count": null,
      "outputs": []
    },
    {
      "cell_type": "code",
      "source": [
        "train_LORA_DP(model, optimiser, train_dataloader, DELTA)"
      ],
      "metadata": {
        "id": "PIGYyK4TCk2A"
      },
      "execution_count": null,
      "outputs": []
    }
  ]
}